{
 "cells": [
  {
   "cell_type": "code",
   "execution_count": null,
   "id": "5e67f4bd",
   "metadata": {},
   "outputs": [
    {
     "name": "stdout",
     "output_type": "stream",
     "text": [
      "HKEY_LOCAL_MACHINE\\SOFTWARE\\Microsoft\\Speech\\Voices\\Tokens\\TTS_MS_EN-US_ZIRA_11.0\n",
      "Listening......\n",
      "Recognizing....\n",
      "result2:\n",
      "{   'alternative': [   {'confidence': 0.92995489, 'transcript': 'YouTube'},\n",
      "                       {'transcript': 'genyoutube'},\n",
      "                       {'transcript': 'U tube'}],\n",
      "    'final': True}\n",
      "User said: YouTube\n",
      "\n",
      "Listening......\n",
      "Recognizing....\n",
      "result2:\n",
      "{   'alternative': [   {'confidence': 0.92995489, 'transcript': 'open YouTube'},\n",
      "                       {'transcript': 'open U tube'},\n",
      "                       {'transcript': 'topan YouTube'},\n",
      "                       {'transcript': 'YouTube'},\n",
      "                       {'transcript': 'Vipin YouTube'}],\n",
      "    'final': True}\n",
      "User said: open YouTube\n",
      "\n",
      "Listening......\n",
      "Recognizing....\n",
      "result2:\n",
      "[]\n",
      "\n",
      "Listening......\n",
      "Recognizing....\n",
      "result2:\n",
      "[]\n",
      "\n"
     ]
    },
    {
     "name": "stderr",
     "output_type": "stream",
     "text": [
      "Exception in Tkinter callback\n",
      "Traceback (most recent call last):\n",
      "  File \"C:\\Users\\Varun Sampat\\anaconda3\\lib\\tkinter\\__init__.py\", line 1892, in __call__\n",
      "    return self.func(*args)\n",
      "  File \"C:\\Users\\Varun Sampat\\AppData\\Local\\Temp\\ipykernel_19864\\1127863962.py\", line 5, in buttonClick\n",
      "    friday.main()\n",
      "  File \"C:\\Users\\Varun Sampat\\OneDrive\\Desktop\\JARVIS\\JARVIS\\Libraries\\friday.py\", line 73, in main\n",
      "    query = takeCommand().lower()\n",
      "  File \"C:\\Users\\Varun Sampat\\OneDrive\\Desktop\\JARVIS\\JARVIS\\Libraries\\friday.py\", line 52, in takeCommand\n",
      "    with sr.Microphone() as source:\n",
      "  File \"C:\\Users\\Varun Sampat\\anaconda3\\lib\\site-packages\\speech_recognition\\__init__.py\", line 190, in __enter__\n",
      "    self.audio.open(\n",
      "  File \"C:\\Users\\Varun Sampat\\anaconda3\\lib\\site-packages\\pyaudio\\__init__.py\", line 639, in open\n",
      "    stream = PyAudio.Stream(self, *args, **kwargs)\n",
      "  File \"C:\\Users\\Varun Sampat\\anaconda3\\lib\\site-packages\\pyaudio\\__init__.py\", line 441, in __init__\n",
      "    self._stream = pa.open(**arguments)\n",
      "KeyboardInterrupt\n"
     ]
    }
   ],
   "source": [
    "from tkinter import *\n",
    "from Libraries import friday \n",
    "\n",
    "def buttonClick(self):\n",
    "    friday.main()\n",
    "    root.destroy()\n",
    "\n",
    "root = Tk()\n",
    "c = Canvas(root,height = 600,width = 1200)\n",
    "file1 = PhotoImage(file=\"background.gif\")\n",
    "id = c.create_image(600,275,anchor = CENTER,image = file1)\n",
    "c.pack()\n",
    "id = c.create_oval(357,67,815,530,width = 0)\n",
    "c.tag_bind(id,\"<Button-1>\", buttonClick)\n",
    "root.title(\"Friday\")\n",
    "\n",
    "\n",
    "root.mainloop()"
   ]
  },
  {
   "cell_type": "code",
   "execution_count": null,
   "id": "d1e5e061",
   "metadata": {},
   "outputs": [],
   "source": []
  }
 ],
 "metadata": {
  "kernelspec": {
   "display_name": "Python 3 (ipykernel)",
   "language": "python",
   "name": "python3"
  },
  "language_info": {
   "codemirror_mode": {
    "name": "ipython",
    "version": 3
   },
   "file_extension": ".py",
   "mimetype": "text/x-python",
   "name": "python",
   "nbconvert_exporter": "python",
   "pygments_lexer": "ipython3",
   "version": "3.9.13"
  }
 },
 "nbformat": 4,
 "nbformat_minor": 5
}
